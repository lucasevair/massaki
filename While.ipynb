{
  "nbformat": 4,
  "nbformat_minor": 0,
  "metadata": {
    "colab": {
      "provenance": [],
      "authorship_tag": "ABX9TyP0GvZW0lPzbUX9XSojo5Ae",
      "include_colab_link": true
    },
    "kernelspec": {
      "name": "python3",
      "display_name": "Python 3"
    },
    "language_info": {
      "name": "python"
    }
  },
  "cells": [
    {
      "cell_type": "markdown",
      "metadata": {
        "id": "view-in-github",
        "colab_type": "text"
      },
      "source": [
        "<a href=\"https://colab.research.google.com/github/lucasevair/massaki/blob/main/While.ipynb\" target=\"_parent\"><img src=\"https://colab.research.google.com/assets/colab-badge.svg\" alt=\"Open In Colab\"/></a>"
      ]
    },
    {
      "cell_type": "markdown",
      "source": [
        "\n",
        "perguntar ao usuário se deseja ou não realizar a soma de 2\n",
        "variáveis;\n",
        "EXEMPLO 08\n",
        "*Enquanto responder Sim o\n",
        "programa continua solicitando\n",
        "os valores e calculando a\n",
        "soma.*\n"
      ],
      "metadata": {
        "id": "P9TTUG1SvnyR"
      }
    },
    {
      "cell_type": "code",
      "execution_count": 24,
      "metadata": {
        "colab": {
          "base_uri": "https://localhost:8080/"
        },
        "id": "-nETnv9RvZZP",
        "outputId": "8f79f03e-64fd-4b55-a0bc-edeb90b80796"
      },
      "outputs": [
        {
          "output_type": "stream",
          "name": "stdout",
          "text": [
            "Deseja realizar a soma de 2 variaveis ? (S/N): s\n",
            "Digite o valor da primeira variavel: 2\n",
            "Digite o valor da segunda variavel: 2\n",
            "A soma de 2.0 e 2.0 é :  4.00\n",
            "\n",
            "Deseja realizar a soma de 2 variaveis ? (S/N): n\n",
            "Operação financeira\n"
          ]
        }
      ],
      "source": [
        "while True:\n",
        "  # perguntar ao usuário se deseja se deseja realizar a soma de duas variaveis\n",
        "  resposta = input(\"Deseja realizar a soma de 2 variaveis ? (S/N): \").strip().upper()\n",
        "\n",
        "  # Se a resposta for \"S\", realize a soma\n",
        "  if resposta == 'S':\n",
        "    #Solicitar ao usuario que insira os valores das variaveis\n",
        "    var1 = float(input(\"Digite o valor da primeira variavel: \"))\n",
        "    var2 = float(input(\"Digite o valor da segunda variavel: \"))\n",
        "\n",
        "    # Realiza a soma das variaveis\n",
        "    soma = var1 + var2\n",
        "\n",
        "    # Exibir o resultado da soma\n",
        "    print(f\"A soma de {var1} e {var2} é : {soma: .2f}\\n\")\n",
        "\n",
        "  # Se a resposta for \"N\", termina o loop\n",
        "  elif resposta == 'N':\n",
        "    print(\"Operação financeira\")\n",
        "    break\n",
        "\n",
        "  # Caso o usuário insira uma resposta invalida, solicite novamente\n",
        "  else:\n",
        "    print(\"resposta invalida! Por favor, digite 'S' para sim ou 'N' para Não\")"
      ]
    }
  ]
}
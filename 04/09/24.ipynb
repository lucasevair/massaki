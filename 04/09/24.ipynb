{
  "nbformat": 4,
  "nbformat_minor": 0,
  "metadata": {
    "colab": {
      "provenance": [],
      "authorship_tag": "ABX9TyOw9zRrZp43JKHtV3idvyft",
      "include_colab_link": true
    },
    "kernelspec": {
      "name": "python3",
      "display_name": "Python 3"
    },
    "language_info": {
      "name": "python"
    }
  },
  "cells": [
    {
      "cell_type": "markdown",
      "metadata": {
        "id": "view-in-github",
        "colab_type": "text"
      },
      "source": [
        "<a href=\"https://colab.research.google.com/github/lucasevair/massaki/blob/main/04/09/24.ipynb\" target=\"_parent\"><img src=\"https://colab.research.google.com/assets/colab-badge.svg\" alt=\"Open In Colab\"/></a>"
      ]
    },
    {
      "cell_type": "code",
      "execution_count": 4,
      "metadata": {
        "colab": {
          "base_uri": "https://localhost:8080/"
        },
        "id": "1GKOL9tdjOIB",
        "outputId": "739cad54-b668-40a7-ce93-b1fc9ee31e96"
      },
      "outputs": [
        {
          "output_type": "stream",
          "name": "stdout",
          "text": [
            "digite em polegadas:1\n",
            "valor em milimetros:  25.4\n"
          ]
        }
      ],
      "source": [
        "p = float(input(\"digite em polegadas:\"))\n",
        "mm = p*25.4\n",
        "print(\"valor em milimetros: \",mm)"
      ]
    },
    {
      "cell_type": "code",
      "source": [
        "from math import pi\n",
        "r = float(input(\"digite raio:\"))\n",
        "V = (4/3)*pi*r**3\n",
        "print(\"V: \",V)"
      ],
      "metadata": {
        "colab": {
          "base_uri": "https://localhost:8080/"
        },
        "id": "7MZfD2Jbm249",
        "outputId": "da2c1c5d-a1c1-41ae-ee4c-9aedd5f4f249"
      },
      "execution_count": 17,
      "outputs": [
        {
          "output_type": "stream",
          "name": "stdout",
          "text": [
            "digite raio:2\n",
            "V:  33.510321638291124\n"
          ]
        }
      ]
    },
    {
      "cell_type": "code",
      "source": [
        "from math import pi\n",
        "Vgraus = float(input(\"Valor em Graus:\"))\n",
        "Vrad = (Vgraus*pi)/180\n",
        "print(\"Vgraus: \",Vrad)"
      ],
      "metadata": {
        "colab": {
          "base_uri": "https://localhost:8080/"
        },
        "id": "iQXvrnwXonip",
        "outputId": "2db1cc86-08ea-425f-bc0f-b9fdc87f878a"
      },
      "execution_count": 24,
      "outputs": [
        {
          "output_type": "stream",
          "name": "stdout",
          "text": [
            "Valor em Graus:1\n",
            "Vgraus:  0.017453292519943295\n"
          ]
        }
      ]
    },
    {
      "cell_type": "code",
      "source": [
        "from math import pi\n",
        "Vradiano = float(input(\"Valor em Radianos:\"))\n",
        "Vgrados = (180*Vradiano)/pi\n",
        "print(\"Vradiano: \",Vgrados)"
      ],
      "metadata": {
        "id": "fqPxICUfqV1s"
      },
      "execution_count": null,
      "outputs": []
    },
    {
      "cell_type": "markdown",
      "source": [],
      "metadata": {
        "id": "eFbz2VCQlbHD"
      }
    }
  ]
}
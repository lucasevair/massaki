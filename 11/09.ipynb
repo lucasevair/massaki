{
  "nbformat": 4,
  "nbformat_minor": 0,
  "metadata": {
    "colab": {
      "provenance": [],
      "authorship_tag": "ABX9TyPL6kCduiOIYTD2mFhtXl1M",
      "include_colab_link": true
    },
    "kernelspec": {
      "name": "python3",
      "display_name": "Python 3"
    },
    "language_info": {
      "name": "python"
    }
  },
  "cells": [
    {
      "cell_type": "markdown",
      "metadata": {
        "id": "view-in-github",
        "colab_type": "text"
      },
      "source": [
        "<a href=\"https://colab.research.google.com/github/lucasevair/massaki/blob/main/11/09.ipynb\" target=\"_parent\"><img src=\"https://colab.research.google.com/assets/colab-badge.svg\" alt=\"Open In Colab\"/></a>"
      ]
    },
    {
      "cell_type": "code",
      "source": [],
      "metadata": {
        "id": "AndF2FMmrano"
      },
      "execution_count": null,
      "outputs": []
    },
    {
      "cell_type": "markdown",
      "source": [],
      "metadata": {
        "id": "ZaNkSUm_rUkg"
      }
    },
    {
      "cell_type": "markdown",
      "source": [
        "## Par Ou Impar"
      ],
      "metadata": {
        "id": "DHNUpk0Oq9MO"
      }
    },
    {
      "cell_type": "code",
      "execution_count": 7,
      "metadata": {
        "colab": {
          "base_uri": "https://localhost:8080/"
        },
        "id": "6vc6JXBlmwUU",
        "outputId": "43a3e196-d787-4ef1-8466-4d01d3d1bd0d"
      },
      "outputs": [
        {
          "output_type": "stream",
          "name": "stdout",
          "text": [
            "Digite um número inteiro: 101\n",
            "o número 101 é ímpar.\n"
          ]
        }
      ],
      "source": [
        "# Solicite ao usúario que insira um numer0\n",
        "numero = int(input(\"Digite um número inteiro: \"))\n",
        "\n",
        "#Verifica se o número é par ou ímpar\n",
        "if numero % 2 == 0:\n",
        "  print(f\"o número {numero} é par.\")\n",
        "else:\n",
        "  print(f\"o número {numero} é ímpar.\")"
      ]
    },
    {
      "cell_type": "code",
      "source": [],
      "metadata": {
        "id": "g1aroVaJrSZz"
      },
      "execution_count": null,
      "outputs": []
    },
    {
      "cell_type": "markdown",
      "source": [
        "### Raiz Quadrada"
      ],
      "metadata": {
        "id": "gpxpf_9rq7Um"
      }
    },
    {
      "cell_type": "code",
      "source": [
        "import math\n",
        "# Solicita ao usuário que insira um número\n",
        "numero = float(input(\"Digite um número: \"))\n",
        "# Verifica se o número é maior ou igual a zero\n",
        "if numero >= 0:\n",
        "  raiz_quadrada = math.sqrt(numero)\n",
        "  print(f\"A raiz quadrada de {numero} é {raiz_quadrada:.2f}.\")\n",
        "else:\n",
        "  print(\"Não existe raiz real para este número!\")\n"
      ],
      "metadata": {
        "colab": {
          "base_uri": "https://localhost:8080/"
        },
        "id": "L1x0n95Trbm4",
        "outputId": "d63ff5a2-99c4-4d3b-d5e8-74b201603a73"
      },
      "execution_count": 11,
      "outputs": [
        {
          "output_type": "stream",
          "name": "stdout",
          "text": [
            "Digite um número: 49\n",
            "A raiz quadrada de 49.0 é 7.00.\n"
          ]
        }
      ]
    },
    {
      "cell_type": "markdown",
      "source": [
        "### Tamanho da Camiseta"
      ],
      "metadata": {
        "id": "9cfDGKT9tRw0"
      }
    },
    {
      "cell_type": "code",
      "source": [
        "# Solicita ao usuário que insira o comprimento e a largura da camiseta\n",
        "comprimento = float(input(\"Digite o comprimento da camiseta em centímetros: \"))\n",
        "largura = float(input(\"Digite a largura da camiseta em centímetros: \"))\n",
        "# Determina o tamanho da camiseta com base no comprimento e largura\n",
        "if comprimento <= 60 and largura <= 45:\n",
        "  tamanho = \"PP\"\n",
        "elif comprimento <= 65 and largura <= 48:\n",
        "  tamanho = \"P\"\n",
        "elif comprimento <= 70 and largura <= 51:\n",
        "  tamanho = \"M\"\n",
        "elif comprimento <= 75 and largura <= 54:\n",
        "  tamanho = \"G\"\n",
        "elif comprimento <= 80 and largura <= 57:\n",
        "  tamanho = \"GG\"\n",
        "else:\n",
        "  tamanho = \"XGG\"\n",
        "# Exibe o tamanho da camiseta\n",
        "print(f\"o tamanho da camiseta é {tamanho}.\")"
      ],
      "metadata": {
        "colab": {
          "base_uri": "https://localhost:8080/"
        },
        "id": "WGs4yW9UtVYl",
        "outputId": "a678f568-b80c-49ec-ec52-82bce3a66ace"
      },
      "execution_count": 14,
      "outputs": [
        {
          "output_type": "stream",
          "name": "stdout",
          "text": [
            "Digite o comprimento da camiseta em centímetros: 50\n",
            "Digite a largura da camiseta em centímetros: 50\n",
            "o tamanho da camiseta é M.\n"
          ]
        }
      ]
    }
  ]
}
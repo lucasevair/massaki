{
  "nbformat": 4,
  "nbformat_minor": 0,
  "metadata": {
    "colab": {
      "provenance": [],
      "authorship_tag": "ABX9TyO9vNs1C79z3d2eYTEXoe6u",
      "include_colab_link": true
    },
    "kernelspec": {
      "name": "python3",
      "display_name": "Python 3"
    },
    "language_info": {
      "name": "python"
    }
  },
  "cells": [
    {
      "cell_type": "markdown",
      "metadata": {
        "id": "view-in-github",
        "colab_type": "text"
      },
      "source": [
        "<a href=\"https://colab.research.google.com/github/lucasevair/massaki/blob/main/18-09.ipynb\" target=\"_parent\"><img src=\"https://colab.research.google.com/assets/colab-badge.svg\" alt=\"Open In Colab\"/></a>"
      ]
    },
    {
      "cell_type": "markdown",
      "source": [
        "# **Verificar multiplo de 3**"
      ],
      "metadata": {
        "id": "HX1OEPdTw1dn"
      }
    },
    {
      "cell_type": "code",
      "execution_count": 13,
      "metadata": {
        "colab": {
          "base_uri": "https://localhost:8080/"
        },
        "id": "G5CLXyWlj19y",
        "outputId": "82f51db0-3840-43b5-ea1c-eb4e8dd658c0"
      },
      "outputs": [
        {
          "output_type": "stream",
          "name": "stdout",
          "text": [
            "Digite um número: 3\n",
            "o número {numero} é multiplo.\n"
          ]
        }
      ],
      "source": [
        "#Elaborar um programa em python que solicite ao usuário um valor inteiro e em seguida informe ao usuário se o valor é múltiplo de 3 ou não\n",
        "numero = float(input(\"Digite um número: \"))\n",
        "# Verifica se o número é multiplo de 3 ou não\n",
        "if numero % 3 == 0:\n",
        "  print(\"o número {numero} é multiplo.\")\n",
        "else:\n",
        "  print(\"o número {numero} Não multiplo.\")"
      ]
    },
    {
      "cell_type": "markdown",
      "source": [
        "# **Calcular media de prova com peso**"
      ],
      "metadata": {
        "id": "xgcwCSQ2wo_H"
      }
    },
    {
      "cell_type": "code",
      "source": [
        "#Dadas as notas a e b de um aluno,2 e 3; pede-se elaborar um programa em Python para calcular e exibir a média ponderada do aluno, verificar e informar, junto ao valor da sua média, se foi aprovado ou não.\n",
        "#Insira os valores das notas A e B\n",
        "NotaA = float(input(\"Digite valor nota A\"))\n",
        "NotaB = float(input(\"Digite valor nota B\"))\n",
        "#Calcular média\n",
        "Media = (NotaA*2+NotaB*3)/(2+3)\n",
        "#Exibir aprovação\n",
        "if Media >= 5:\n",
        "  print(\"Aprovado\")\n",
        "else:\n",
        "  print(\"Reprovado\")"
      ],
      "metadata": {
        "colab": {
          "base_uri": "https://localhost:8080/"
        },
        "id": "PPmp0OQank0l",
        "outputId": "3706d2fd-b1a9-48d0-db0d-81acd461c9b9"
      },
      "execution_count": 51,
      "outputs": [
        {
          "output_type": "stream",
          "name": "stdout",
          "text": [
            "Digite valor nota A4.9\n",
            "Digite valor nota B5\n",
            "Reprovado\n"
          ]
        }
      ]
    }
  ]
}
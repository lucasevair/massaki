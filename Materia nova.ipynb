{
  "nbformat": 4,
  "nbformat_minor": 0,
  "metadata": {
    "colab": {
      "provenance": [],
      "authorship_tag": "ABX9TyOhKGxumblyZSY7GQcTLcFv",
      "include_colab_link": true
    },
    "kernelspec": {
      "name": "python3",
      "display_name": "Python 3"
    },
    "language_info": {
      "name": "python"
    }
  },
  "cells": [
    {
      "cell_type": "markdown",
      "metadata": {
        "id": "view-in-github",
        "colab_type": "text"
      },
      "source": [
        "<a href=\"https://colab.research.google.com/github/lucasevair/massaki/blob/main/Materia%20nova.ipynb\" target=\"_parent\"><img src=\"https://colab.research.google.com/assets/colab-badge.svg\" alt=\"Open In Colab\"/></a>"
      ]
    },
    {
      "cell_type": "code",
      "execution_count": null,
      "metadata": {
        "id": "2MNYJnGlz0h9"
      },
      "outputs": [],
      "source": []
    },
    {
      "cell_type": "markdown",
      "source": [
        "# **Materia nova**"
      ],
      "metadata": {
        "id": "gsxmRbMNz00q"
      }
    },
    {
      "cell_type": "code",
      "source": [
        "#Contagem 1 a 10 (de 2 em 2)\n",
        "for A in range(1,10,2):\n",
        "  print (A)"
      ],
      "metadata": {
        "colab": {
          "base_uri": "https://localhost:8080/"
        },
        "id": "9Vq4ewNwz3FB",
        "outputId": "2e7c0335-9357-4ab8-a1ce-79639cbd6363"
      },
      "execution_count": 4,
      "outputs": [
        {
          "output_type": "stream",
          "name": "stdout",
          "text": [
            "1\n",
            "3\n",
            "5\n",
            "7\n",
            "9\n"
          ]
        }
      ]
    },
    {
      "cell_type": "code",
      "source": [
        "#Contagem 7 a 20 (de 5 em 5)\n",
        "for B in range(7,20,5):\n",
        "  print (B)"
      ],
      "metadata": {
        "colab": {
          "base_uri": "https://localhost:8080/"
        },
        "id": "SfdQaj1Q0sK4",
        "outputId": "4d9501a5-d774-466a-a558-62b55390df5a"
      },
      "execution_count": 5,
      "outputs": [
        {
          "output_type": "stream",
          "name": "stdout",
          "text": [
            "7\n",
            "12\n",
            "17\n"
          ]
        }
      ]
    },
    {
      "cell_type": "code",
      "source": [
        "#Contagem 7 a 20 (de 5 em 5)\n",
        "for C in range(10,500,100):\n",
        "  print (C)"
      ],
      "metadata": {
        "colab": {
          "base_uri": "https://localhost:8080/"
        },
        "id": "4FG3qbQZ1Nay",
        "outputId": "f0759ed4-349d-4a27-c8a0-89b7973312ad"
      },
      "execution_count": 8,
      "outputs": [
        {
          "output_type": "stream",
          "name": "stdout",
          "text": [
            "10\n",
            "110\n",
            "210\n",
            "310\n",
            "410\n"
          ]
        }
      ]
    }
  ]
}